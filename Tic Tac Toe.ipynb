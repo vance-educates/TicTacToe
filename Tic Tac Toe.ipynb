{
 "cells": [
  {
   "cell_type": "code",
   "execution_count": null,
   "id": "bc21eb5d",
   "metadata": {},
   "outputs": [],
   "source": [
    "# Code that sets up the board\n",
    "\n",
    "d = {1:' ',2:' ',3:' ',4:' ',5:' ',6:' ',7:' ',8:' ',9:' '}\n",
    "from IPython.display import clear_output\n",
    "def display():\n",
    "    print(f'{d[7]} | {d[8]} | {d[9]}')\n",
    "    print(f'{d[4]} | {d[5]} | {d[6]}')\n",
    "    print(f'{d[1]} | {d[2]} | {d[3]}')"
   ]
  },
  {
   "cell_type": "code",
   "execution_count": null,
   "id": "6ee188fd",
   "metadata": {},
   "outputs": [],
   "source": [
    "display()"
   ]
  },
  {
   "cell_type": "code",
   "execution_count": null,
   "id": "37926595",
   "metadata": {},
   "outputs": [],
   "source": [
    "# Code that takes player input\n",
    "\n",
    "def player_input():\n",
    "    new_input = False\n",
    "    while new_input == False:\n",
    "        position = input('Select the position you would like to play your piece.: ')\n",
    "        if position in ['1','2','3','4','5','6','7','8','9'] and d[int(position)]==' ':\n",
    "            new_input = True\n",
    "            return int(position)"
   ]
  },
  {
   "cell_type": "code",
   "execution_count": null,
   "id": "6f85fe57",
   "metadata": {},
   "outputs": [],
   "source": [
    "player_input()"
   ]
  },
  {
   "cell_type": "code",
   "execution_count": null,
   "id": "0017c0b2",
   "metadata": {},
   "outputs": [],
   "source": [
    "'''this code will allow me to count the number of Xs and Os on the board, so that if\n",
    "if the number of Xs and Os is even, it's player X's turn.\n",
    "'''\n",
    "\n",
    "def countx():\n",
    "    marks = []\n",
    "    for x in d.values():\n",
    "        if x == 'X'or x == 'O':\n",
    "            marks.append('1')\n",
    "    return len(marks)  "
   ]
  },
  {
   "cell_type": "code",
   "execution_count": null,
   "id": "f1262eec",
   "metadata": {},
   "outputs": [],
   "source": [
    "#Code that uses the player input to update the board\n",
    "\n",
    "def update_display():\n",
    "    display()\n",
    "    p = player_input()\n",
    "    if countx()%2==0:\n",
    "        clear_output()\n",
    "        print ('Player O, it is your turn.')\n",
    "        d[p] = 'X'\n",
    "    else:\n",
    "        clear_output()\n",
    "        print ('Player X, it is your turn.')\n",
    "        d[p] = 'O'"
   ]
  },
  {
   "cell_type": "code",
   "execution_count": null,
   "id": "5390656f",
   "metadata": {},
   "outputs": [],
   "source": [
    "update_display()"
   ]
  },
  {
   "cell_type": "code",
   "execution_count": null,
   "id": "2f4b7c3f",
   "metadata": {},
   "outputs": [],
   "source": [
    "#Keeps the game going until a winner is made.\n",
    "    \n",
    "def still_going():\n",
    "    from IPython.display import clear_output\n",
    "    done = False\n",
    "    while done == False:\n",
    "        update_display()\n",
    "        if d[1]==d[2]==d[3]!=' ' or d[1]==d[5]==d[9]!=' ' or d[1]==d[4]==d[7]!=' ' or d[2]==d[5]==d[8]!=' ' \\\n",
    "        or d[3]==d[6]==d[9]!=' '  or d[3]==d[5]==d[7]!=' 'or d[4]==d[5]==d[6]!=' ' or d[7]==d[8]==d[9]!=' ':\n",
    "            if countx()%2==0:\n",
    "                clear_output()\n",
    "                display()\n",
    "                print ('O WINS!!!')\n",
    "                done = True\n",
    "            else:\n",
    "                clear_output()\n",
    "                display()\n",
    "                print ('X WINS!!!')\n",
    "                done=True\n",
    "        if countx()== 9:\n",
    "            clear_output()\n",
    "            display()\n",
    "            print ('Tie')\n",
    "            done = True\n",
    "        else:\n",
    "            continue\n",
    "\n",
    "    if done == True:\n",
    "        cont= input('Would you like to play again? Y or N: ')\n",
    "        if cont == 'Y':\n",
    "            d[1]=' '\n",
    "            d[2]=' '\n",
    "            #and d[2]=' ' and \n",
    "            d[3]=' '\n",
    "            d[4]=' ' \n",
    "            d[5]=' '\n",
    "            d[6]=' '\n",
    "            d[7]=' '\n",
    "            d[8]=' '\n",
    "            d[9]=' '\n",
    "            done =False\n",
    "            return cont == 'Y'\n",
    "        else:\n",
    "            print ('Thank you for playing!')\n",
    "            return cont == 'Y'"
   ]
  },
  {
   "cell_type": "code",
   "execution_count": null,
   "id": "27add8a1",
   "metadata": {},
   "outputs": [],
   "source": [
    "still_going()"
   ]
  },
  {
   "cell_type": "code",
   "execution_count": null,
   "id": "a3cabe5e",
   "metadata": {},
   "outputs": [],
   "source": [
    "#Code that establishes the game's flow\n",
    "\n",
    "def tictactoe():\n",
    "    clear_output()\n",
    "    print ('Hello! This is Tic Tac Toe! You will need 2 players at the keyboard.')\n",
    "    print ('The first player will be player X and the second player will be')\n",
    "    print ('player O. Your goal is to achieve 3 of your symbol in a row--either')\n",
    "    print ('vertically, horizontally, or diagonally--before your opponent does.')\n",
    "    print ('Choose a position 1-9 corresponding to a 9-key pad to place your')\n",
    "    print ('symbol in that location.')\n",
    "    \n",
    "    still_going()\n",
    "\n",
    "    \n",
    "\n",
    "while still_going():\n",
    "    tictactoe()"
   ]
  },
  {
   "cell_type": "code",
   "execution_count": null,
   "id": "62b7859c",
   "metadata": {},
   "outputs": [],
   "source": [
    "def tictactoe():\n",
    "    clear_output()\n",
    "    print ('Hello! This is Tic Tac Toe! You will need 2 players at the keyboard.')\n",
    "    print ('The first player will be player X and the second player will be')\n",
    "    print ('player O. Your goal is to achieve 3 of your symbol in a row--either')\n",
    "    print ('vertically, horizontally, or diagonally--before your opponent does.')\n",
    "    print ('Choose a position 1-9 corresponding to a 9-key pad to place your')\n",
    "    print ('symbol in that location.')\n",
    "    \n",
    "    still_going()"
   ]
  },
  {
   "cell_type": "code",
   "execution_count": null,
   "id": "d71359bf",
   "metadata": {},
   "outputs": [],
   "source": [
    "tictactoe()"
   ]
  },
  {
   "cell_type": "code",
   "execution_count": null,
   "id": "8e41bed6",
   "metadata": {},
   "outputs": [],
   "source": []
  },
  {
   "cell_type": "code",
   "execution_count": null,
   "id": "636c82f5",
   "metadata": {},
   "outputs": [],
   "source": []
  },
  {
   "cell_type": "code",
   "execution_count": null,
   "id": "eb3e5bc3",
   "metadata": {},
   "outputs": [],
   "source": []
  },
  {
   "cell_type": "code",
   "execution_count": null,
   "id": "cec71903",
   "metadata": {},
   "outputs": [],
   "source": []
  },
  {
   "cell_type": "code",
   "execution_count": null,
   "id": "fd6442be",
   "metadata": {},
   "outputs": [],
   "source": []
  },
  {
   "cell_type": "code",
   "execution_count": null,
   "id": "f719864f",
   "metadata": {},
   "outputs": [
    {
     "name": "stdout",
     "output_type": "stream",
     "text": [
      "Hello! This is Tic Tac Toe! You will need 2 players at the keyboard.\n",
      "The first player will be player X and the second player will be\n",
      "player O. Your goal is to achieve 3 of your symbol in a row--either\n",
      "vertically, horizontally, or diagonally--before your opponent does.\n",
      "Choose a position 1-9 corresponding to a 9-key pad to place your\n",
      "symbol in that location.\n",
      "  |   |  \n",
      "  |   |  \n",
      "  |   |  \n"
     ]
    }
   ],
   "source": [
    "#The game altogether\n",
    "\n",
    "# Code that sets up the board\n",
    "\n",
    "d = {1:' ',2:' ',3:' ',4:' ',5:' ',6:' ',7:' ',8:' ',9:' '}\n",
    "from IPython.display import clear_output\n",
    "def display():\n",
    "    print(f'{d[7]} | {d[8]} | {d[9]}')\n",
    "    print(f'{d[4]} | {d[5]} | {d[6]}')\n",
    "    print(f'{d[1]} | {d[2]} | {d[3]}')\n",
    "    \n",
    "# Code that takes player input\n",
    "\n",
    "def player_input():\n",
    "    new_input = False\n",
    "    while new_input == False:\n",
    "        position = input('Select the position you would like to play your piece.: ')\n",
    "        if position in ['1','2','3','4','5','6','7','8','9'] and d[int(position)]==' ':\n",
    "            new_input = True\n",
    "            return int(position)\n",
    "\n",
    "# this code will allow me to count the number of Xs and Os on the board, so that if\n",
    "# if the number of Xs and Os is even, it's player X's turn.\n",
    "\n",
    "def countx():\n",
    "    marks = []\n",
    "    for x in d.values():\n",
    "        if x == 'X'or x == 'O':\n",
    "            marks.append('1')\n",
    "    return len(marks)        \n",
    "        \n",
    "#Code that uses the player input to update the board\n",
    "\n",
    "def update_display():\n",
    "    display()\n",
    "    p = player_input()\n",
    "    if countx()%2==0:\n",
    "        clear_output()\n",
    "        print ('Player O, it is your turn.')\n",
    "        d[p] = 'X'\n",
    "    else:\n",
    "        clear_output()\n",
    "        print ('Player X, it is your turn.')\n",
    "        d[p] = 'O'\n",
    "\n",
    "#Keeps the game going until a winner is made.\n",
    "    \n",
    "def still_going():\n",
    "    from IPython.display import clear_output\n",
    "    done = False\n",
    "    while done == False:\n",
    "        update_display()\n",
    "        if d[1]==d[2]==d[3]!=' ' or d[1]==d[5]==d[9]!=' ' or d[1]==d[4]==d[7]!=' ' or d[2]==d[5]==d[8]!=' ' \\\n",
    "        or d[3]==d[6]==d[9]!=' '  or d[3]==d[5]==d[7]!=' 'or d[4]==d[5]==d[6]!=' ' or d[7]==d[8]==d[9]!=' ':\n",
    "            if countx()%2==0:\n",
    "                clear_output()\n",
    "                display()\n",
    "                print ('O WINS!!!')\n",
    "                done = True\n",
    "            else:\n",
    "                clear_output()\n",
    "                display()\n",
    "                print ('X WINS!!!')\n",
    "                done=True\n",
    "        elif countx()== 9:\n",
    "            clear_output()\n",
    "            display()\n",
    "            print ('Tie')\n",
    "            done = True\n",
    "        else:\n",
    "            continue\n",
    "\n",
    "    if done == True:\n",
    "        cont= input('Would you like to play again? Y or N: ')\n",
    "        if cont == 'Y':\n",
    "            d[1]=' '\n",
    "            d[2]=' '\n",
    "            #and d[2]=' ' and \n",
    "            d[3]=' '\n",
    "            d[4]=' ' \n",
    "            d[5]=' '\n",
    "            d[6]=' '\n",
    "            d[7]=' '\n",
    "            d[8]=' '\n",
    "            d[9]=' '\n",
    "            done =False\n",
    "            return cont == 'Y'\n",
    "        else:\n",
    "            print ('Thank you for playing!')\n",
    "            global bl\n",
    "            bl = False\n",
    "            \n",
    "#Code that establishes the game's flow\n",
    "\n",
    "def tictactoe():\n",
    "    clear_output()\n",
    "    print ('Hello! This is Tic Tac Toe! You will need 2 players at the keyboard.')\n",
    "    print ('The first player will be player X and the second player will be')\n",
    "    print ('player O. Your goal is to achieve 3 of your symbol in a row--either')\n",
    "    print ('vertically, horizontally, or diagonally--before your opponent does.')\n",
    "    print ('Choose a position 1-9 corresponding to a 9-key pad to place your')\n",
    "    print ('symbol in that location.')\n",
    "    \n",
    "    still_going()\n",
    "bl= True\n",
    "while bl==True:\n",
    "    tictactoe()"
   ]
  },
  {
   "cell_type": "code",
   "execution_count": 18,
   "id": "00972b4e",
   "metadata": {},
   "outputs": [
    {
     "name": "stdout",
     "output_type": "stream",
     "text": [
      "X | O |  \n",
      "O | X | O\n",
      "X | O | X\n",
      "O WINS!!!\n",
      "Would you like to play again? Y or N: N\n",
      "Thank you for playing!\n",
      "None\n"
     ]
    }
   ],
   "source": [
    "print( tictactoe())"
   ]
  },
  {
   "cell_type": "code",
   "execution_count": 8,
   "id": "93b5b72f",
   "metadata": {},
   "outputs": [
    {
     "data": {
      "text/plain": [
       "bool"
      ]
     },
     "execution_count": 8,
     "metadata": {},
     "output_type": "execute_result"
    }
   ],
   "source": [
    "bool"
   ]
  },
  {
   "cell_type": "code",
   "execution_count": null,
   "id": "cd04a8fc",
   "metadata": {},
   "outputs": [],
   "source": [
    "bool"
   ]
  }
 ],
 "metadata": {
  "kernelspec": {
   "display_name": "Python 3 (ipykernel)",
   "language": "python",
   "name": "python3"
  },
  "language_info": {
   "codemirror_mode": {
    "name": "ipython",
    "version": 3
   },
   "file_extension": ".py",
   "mimetype": "text/x-python",
   "name": "python",
   "nbconvert_exporter": "python",
   "pygments_lexer": "ipython3",
   "version": "3.9.12"
  }
 },
 "nbformat": 4,
 "nbformat_minor": 5
}
