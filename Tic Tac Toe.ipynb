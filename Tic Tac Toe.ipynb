{
 "cells": [
  {
   "cell_type": "code",
   "execution_count": 1,
   "id": "bc21eb5d",
   "metadata": {},
   "outputs": [],
   "source": [
    "# Code that sets up the board\n",
    "\n",
    "d = {1:' ',2:' ',3:' ',4:' ',5:' ',6:' ',7:' ',8:' ',9:' '}\n",
    "from IPython.display import clear_output\n",
    "def display():\n",
    "    print(f'{d[7]} | {d[8]} | {d[9]}')\n",
    "    print(f'{d[4]} | {d[5]} | {d[6]}')\n",
    "    print(f'{d[1]} | {d[2]} | {d[3]}')"
   ]
  },
  {
   "cell_type": "code",
   "execution_count": 2,
   "id": "6ee188fd",
   "metadata": {},
   "outputs": [
    {
     "name": "stdout",
     "output_type": "stream",
     "text": [
      "  |   |  \n",
      "  |   |  \n",
      "  |   |  \n"
     ]
    }
   ],
   "source": [
    "display()"
   ]
  },
  {
   "cell_type": "code",
   "execution_count": 4,
   "id": "37926595",
   "metadata": {},
   "outputs": [],
   "source": [
    "# Code that takes player input\n",
    "\n",
    "def player_input():\n",
    "    new_input = False\n",
    "    while new_input == False:\n",
    "        position = input('Select the position you would like to play your piece.: ')\n",
    "        if position in ['1','2','3','4','5','6','7','8','9'] and d[int(position)]==' ':\n",
    "            new_input = True\n",
    "            return int(position)"
   ]
  },
  {
   "cell_type": "code",
   "execution_count": 5,
   "id": "6f85fe57",
   "metadata": {},
   "outputs": [
    {
     "name": "stdout",
     "output_type": "stream",
     "text": [
      "Select the position you would like to play your piece.: 9\n"
     ]
    },
    {
     "data": {
      "text/plain": [
       "9"
      ]
     },
     "execution_count": 5,
     "metadata": {},
     "output_type": "execute_result"
    }
   ],
   "source": [
    "player_input()"
   ]
  },
  {
   "cell_type": "code",
   "execution_count": 6,
   "id": "0017c0b2",
   "metadata": {},
   "outputs": [],
   "source": [
    "'''this code will allow me to count the number of Xs and Os on the board, so that if\n",
    "if the number of Xs and Os is even, it's player X's turn.\n",
    "'''\n",
    "\n",
    "def countx():\n",
    "    marks = []\n",
    "    for x in d.values():\n",
    "        if x == 'X'or x == 'O':\n",
    "            marks.append('1')\n",
    "    return len(marks)  "
   ]
  },
  {
   "cell_type": "code",
   "execution_count": 17,
   "id": "f1262eec",
   "metadata": {},
   "outputs": [],
   "source": [
    "#Code that uses the player input to update the board\n",
    "\n",
    "def update_display():\n",
    "    display()\n",
    "    p = player_input()\n",
    "    if countx()%2==0:\n",
    "        clear_output()\n",
    "        print ('Player O, it is your turn.')\n",
    "        d[p] = 'X'\n",
    "    else:\n",
    "        clear_output()\n",
    "        print ('Player X, it is your turn.')\n",
    "        d[p] = 'O'"
   ]
  },
  {
   "cell_type": "code",
   "execution_count": 18,
   "id": "5390656f",
   "metadata": {},
   "outputs": [
    {
     "name": "stdout",
     "output_type": "stream",
     "text": [
      "Player O, it is your turn.\n",
      "Select the position you would like to play your piece.: 4\n",
      "  | X |  \n",
      "O | O |  \n",
      "X |   |  \n"
     ]
    }
   ],
   "source": [
    "update_display()"
   ]
  },
  {
   "cell_type": "code",
   "execution_count": 21,
   "id": "2f4b7c3f",
   "metadata": {},
   "outputs": [],
   "source": [
    "#Keeps the game going until a winner is made.\n",
    "    \n",
    "def still_going():\n",
    "    from IPython.display import clear_output\n",
    "    done = False\n",
    "    while done == False:\n",
    "        update_display()\n",
    "        if d[1]==d[2]==d[3]!=' ' or d[1]==d[5]==d[9]!=' ' or d[1]==d[4]==d[7]!=' ' or d[2]==d[5]==d[8]!=' ' \\\n",
    "        or d[3]==d[6]==d[9]!=' '  or d[3]==d[5]==d[7]!=' 'or d[4]==d[5]==d[6]!=' ' or d[7]==d[8]==d[9]!=' ':\n",
    "            if countx()%2==0:\n",
    "                clear_output()\n",
    "                display()\n",
    "                print ('O WINS!!!')\n",
    "                done = True\n",
    "            else:\n",
    "                clear_output()\n",
    "                display()\n",
    "                print ('X WINS!!!')\n",
    "                done=True\n",
    "        if countx()== 9:\n",
    "            clear_output()\n",
    "            display()\n",
    "            print ('Tie')\n",
    "            done = True\n",
    "        else:\n",
    "            continue\n",
    "\n",
    "    if done == True:\n",
    "        cont= input('Would you like to play again? Y or N: ')\n",
    "        if cont == 'Y':\n",
    "            d[1]=' '\n",
    "            d[2]=' '\n",
    "            #and d[2]=' ' and \n",
    "            d[3]=' '\n",
    "            d[4]=' ' \n",
    "            d[5]=' '\n",
    "            d[6]=' '\n",
    "            d[7]=' '\n",
    "            d[8]=' '\n",
    "            d[9]=' '\n",
    "            done =False\n",
    "            return cont == 'Y'\n",
    "        else:\n",
    "            print ('Thank you for playing!')\n",
    "            return cont == 'Y'"
   ]
  },
  {
   "cell_type": "code",
   "execution_count": 22,
   "id": "27add8a1",
   "metadata": {},
   "outputs": [
    {
     "ename": "KeyboardInterrupt",
     "evalue": "Interrupted by user",
     "output_type": "error",
     "traceback": [
      "\u001b[1;31m---------------------------------------------------------------------------\u001b[0m",
      "\u001b[1;31mKeyboardInterrupt\u001b[0m                         Traceback (most recent call last)",
      "Input \u001b[1;32mIn [22]\u001b[0m, in \u001b[0;36m<cell line: 1>\u001b[1;34m()\u001b[0m\n\u001b[1;32m----> 1\u001b[0m \u001b[43mstill_going\u001b[49m\u001b[43m(\u001b[49m\u001b[43m)\u001b[49m\n",
      "Input \u001b[1;32mIn [21]\u001b[0m, in \u001b[0;36mstill_going\u001b[1;34m()\u001b[0m\n\u001b[0;32m      5\u001b[0m \u001b[38;5;28;01mwhile\u001b[39;00m done \u001b[38;5;241m==\u001b[39m \u001b[38;5;28;01mFalse\u001b[39;00m:\n\u001b[0;32m      6\u001b[0m     clear_output()\n\u001b[1;32m----> 7\u001b[0m     \u001b[43mupdate_display\u001b[49m\u001b[43m(\u001b[49m\u001b[43m)\u001b[49m\n\u001b[0;32m      8\u001b[0m     \u001b[38;5;28;01mif\u001b[39;00m d[\u001b[38;5;241m1\u001b[39m]\u001b[38;5;241m==\u001b[39md[\u001b[38;5;241m2\u001b[39m]\u001b[38;5;241m==\u001b[39md[\u001b[38;5;241m3\u001b[39m]\u001b[38;5;241m!=\u001b[39m\u001b[38;5;124m'\u001b[39m\u001b[38;5;124m \u001b[39m\u001b[38;5;124m'\u001b[39m \u001b[38;5;129;01mor\u001b[39;00m d[\u001b[38;5;241m1\u001b[39m]\u001b[38;5;241m==\u001b[39md[\u001b[38;5;241m5\u001b[39m]\u001b[38;5;241m==\u001b[39md[\u001b[38;5;241m9\u001b[39m]\u001b[38;5;241m!=\u001b[39m\u001b[38;5;124m'\u001b[39m\u001b[38;5;124m \u001b[39m\u001b[38;5;124m'\u001b[39m \u001b[38;5;129;01mor\u001b[39;00m d[\u001b[38;5;241m1\u001b[39m]\u001b[38;5;241m==\u001b[39md[\u001b[38;5;241m4\u001b[39m]\u001b[38;5;241m==\u001b[39md[\u001b[38;5;241m7\u001b[39m]\u001b[38;5;241m!=\u001b[39m\u001b[38;5;124m'\u001b[39m\u001b[38;5;124m \u001b[39m\u001b[38;5;124m'\u001b[39m \u001b[38;5;129;01mor\u001b[39;00m d[\u001b[38;5;241m2\u001b[39m]\u001b[38;5;241m==\u001b[39md[\u001b[38;5;241m5\u001b[39m]\u001b[38;5;241m==\u001b[39md[\u001b[38;5;241m8\u001b[39m]\u001b[38;5;241m!=\u001b[39m\u001b[38;5;124m'\u001b[39m\u001b[38;5;124m \u001b[39m\u001b[38;5;124m'\u001b[39m \u001b[38;5;129;01mor\u001b[39;00m d[\u001b[38;5;241m3\u001b[39m]\u001b[38;5;241m==\u001b[39md[\u001b[38;5;241m6\u001b[39m]\u001b[38;5;241m==\u001b[39md[\u001b[38;5;241m9\u001b[39m]\u001b[38;5;241m!=\u001b[39m\u001b[38;5;124m'\u001b[39m\u001b[38;5;124m \u001b[39m\u001b[38;5;124m'\u001b[39m \u001b[38;5;129;01mor\u001b[39;00m d[\u001b[38;5;241m4\u001b[39m]\u001b[38;5;241m==\u001b[39md[\u001b[38;5;241m5\u001b[39m]\u001b[38;5;241m==\u001b[39md[\u001b[38;5;241m6\u001b[39m]\u001b[38;5;241m!=\u001b[39m\u001b[38;5;124m'\u001b[39m\u001b[38;5;124m \u001b[39m\u001b[38;5;124m'\u001b[39m \u001b[38;5;129;01mor\u001b[39;00m d[\u001b[38;5;241m7\u001b[39m]\u001b[38;5;241m==\u001b[39md[\u001b[38;5;241m8\u001b[39m]\u001b[38;5;241m==\u001b[39md[\u001b[38;5;241m9\u001b[39m]\u001b[38;5;241m!=\u001b[39m\u001b[38;5;124m'\u001b[39m\u001b[38;5;124m \u001b[39m\u001b[38;5;124m'\u001b[39m:\n\u001b[0;32m      9\u001b[0m         \u001b[38;5;28;01mif\u001b[39;00m countx()\u001b[38;5;241m%\u001b[39m\u001b[38;5;241m2\u001b[39m\u001b[38;5;241m==\u001b[39m\u001b[38;5;241m0\u001b[39m:\n",
      "Input \u001b[1;32mIn [19]\u001b[0m, in \u001b[0;36mupdate_display\u001b[1;34m()\u001b[0m\n\u001b[0;32m     37\u001b[0m \u001b[38;5;28;01melse\u001b[39;00m:\n\u001b[0;32m     38\u001b[0m     \u001b[38;5;28mprint\u001b[39m (\u001b[38;5;124m'\u001b[39m\u001b[38;5;124mPlayer O, it is your turn.\u001b[39m\u001b[38;5;124m'\u001b[39m)\n\u001b[1;32m---> 39\u001b[0m     d[\u001b[43mplayer_input\u001b[49m\u001b[43m(\u001b[49m\u001b[43m)\u001b[49m] \u001b[38;5;241m=\u001b[39m \u001b[38;5;124m'\u001b[39m\u001b[38;5;124mO\u001b[39m\u001b[38;5;124m'\u001b[39m\n\u001b[0;32m     40\u001b[0m clear_input()\n\u001b[0;32m     41\u001b[0m \u001b[38;5;28;01mreturn\u001b[39;00m display()\n",
      "Input \u001b[1;32mIn [19]\u001b[0m, in \u001b[0;36mplayer_input\u001b[1;34m()\u001b[0m\n\u001b[0;32m     13\u001b[0m new_input \u001b[38;5;241m=\u001b[39m \u001b[38;5;28;01mFalse\u001b[39;00m\n\u001b[0;32m     14\u001b[0m \u001b[38;5;28;01mwhile\u001b[39;00m new_input \u001b[38;5;241m==\u001b[39m \u001b[38;5;28;01mFalse\u001b[39;00m:\n\u001b[1;32m---> 15\u001b[0m     position \u001b[38;5;241m=\u001b[39m \u001b[38;5;28;43minput\u001b[39;49m\u001b[43m(\u001b[49m\u001b[38;5;124;43m'\u001b[39;49m\u001b[38;5;124;43mSelect the position you would like to play your piece.: \u001b[39;49m\u001b[38;5;124;43m'\u001b[39;49m\u001b[43m)\u001b[49m\n\u001b[0;32m     16\u001b[0m     \u001b[38;5;28;01mif\u001b[39;00m position \u001b[38;5;129;01min\u001b[39;00m [\u001b[38;5;124m'\u001b[39m\u001b[38;5;124m1\u001b[39m\u001b[38;5;124m'\u001b[39m,\u001b[38;5;124m'\u001b[39m\u001b[38;5;124m2\u001b[39m\u001b[38;5;124m'\u001b[39m,\u001b[38;5;124m'\u001b[39m\u001b[38;5;124m3\u001b[39m\u001b[38;5;124m'\u001b[39m,\u001b[38;5;124m'\u001b[39m\u001b[38;5;124m4\u001b[39m\u001b[38;5;124m'\u001b[39m,\u001b[38;5;124m'\u001b[39m\u001b[38;5;124m5\u001b[39m\u001b[38;5;124m'\u001b[39m,\u001b[38;5;124m'\u001b[39m\u001b[38;5;124m6\u001b[39m\u001b[38;5;124m'\u001b[39m,\u001b[38;5;124m'\u001b[39m\u001b[38;5;124m7\u001b[39m\u001b[38;5;124m'\u001b[39m,\u001b[38;5;124m'\u001b[39m\u001b[38;5;124m8\u001b[39m\u001b[38;5;124m'\u001b[39m,\u001b[38;5;124m'\u001b[39m\u001b[38;5;124m9\u001b[39m\u001b[38;5;124m'\u001b[39m] \u001b[38;5;129;01mand\u001b[39;00m d[\u001b[38;5;28mint\u001b[39m(position)]\u001b[38;5;241m==\u001b[39m\u001b[38;5;124m'\u001b[39m\u001b[38;5;124m \u001b[39m\u001b[38;5;124m'\u001b[39m:\n\u001b[0;32m     17\u001b[0m         new_input \u001b[38;5;241m=\u001b[39m \u001b[38;5;28;01mTrue\u001b[39;00m\n",
      "File \u001b[1;32m~\\anaconda3\\lib\\site-packages\\ipykernel\\kernelbase.py:1075\u001b[0m, in \u001b[0;36mKernel.raw_input\u001b[1;34m(self, prompt)\u001b[0m\n\u001b[0;32m   1071\u001b[0m \u001b[38;5;28;01mif\u001b[39;00m \u001b[38;5;129;01mnot\u001b[39;00m \u001b[38;5;28mself\u001b[39m\u001b[38;5;241m.\u001b[39m_allow_stdin:\n\u001b[0;32m   1072\u001b[0m     \u001b[38;5;28;01mraise\u001b[39;00m StdinNotImplementedError(\n\u001b[0;32m   1073\u001b[0m         \u001b[38;5;124m\"\u001b[39m\u001b[38;5;124mraw_input was called, but this frontend does not support input requests.\u001b[39m\u001b[38;5;124m\"\u001b[39m\n\u001b[0;32m   1074\u001b[0m     )\n\u001b[1;32m-> 1075\u001b[0m \u001b[38;5;28;01mreturn\u001b[39;00m \u001b[38;5;28;43mself\u001b[39;49m\u001b[38;5;241;43m.\u001b[39;49m\u001b[43m_input_request\u001b[49m\u001b[43m(\u001b[49m\n\u001b[0;32m   1076\u001b[0m \u001b[43m    \u001b[49m\u001b[38;5;28;43mstr\u001b[39;49m\u001b[43m(\u001b[49m\u001b[43mprompt\u001b[49m\u001b[43m)\u001b[49m\u001b[43m,\u001b[49m\n\u001b[0;32m   1077\u001b[0m \u001b[43m    \u001b[49m\u001b[38;5;28;43mself\u001b[39;49m\u001b[38;5;241;43m.\u001b[39;49m\u001b[43m_parent_ident\u001b[49m\u001b[43m[\u001b[49m\u001b[38;5;124;43m\"\u001b[39;49m\u001b[38;5;124;43mshell\u001b[39;49m\u001b[38;5;124;43m\"\u001b[39;49m\u001b[43m]\u001b[49m\u001b[43m,\u001b[49m\n\u001b[0;32m   1078\u001b[0m \u001b[43m    \u001b[49m\u001b[38;5;28;43mself\u001b[39;49m\u001b[38;5;241;43m.\u001b[39;49m\u001b[43mget_parent\u001b[49m\u001b[43m(\u001b[49m\u001b[38;5;124;43m\"\u001b[39;49m\u001b[38;5;124;43mshell\u001b[39;49m\u001b[38;5;124;43m\"\u001b[39;49m\u001b[43m)\u001b[49m\u001b[43m,\u001b[49m\n\u001b[0;32m   1079\u001b[0m \u001b[43m    \u001b[49m\u001b[43mpassword\u001b[49m\u001b[38;5;241;43m=\u001b[39;49m\u001b[38;5;28;43;01mFalse\u001b[39;49;00m\u001b[43m,\u001b[49m\n\u001b[0;32m   1080\u001b[0m \u001b[43m\u001b[49m\u001b[43m)\u001b[49m\n",
      "File \u001b[1;32m~\\anaconda3\\lib\\site-packages\\ipykernel\\kernelbase.py:1120\u001b[0m, in \u001b[0;36mKernel._input_request\u001b[1;34m(self, prompt, ident, parent, password)\u001b[0m\n\u001b[0;32m   1117\u001b[0m             \u001b[38;5;28;01mbreak\u001b[39;00m\n\u001b[0;32m   1118\u001b[0m \u001b[38;5;28;01mexcept\u001b[39;00m \u001b[38;5;167;01mKeyboardInterrupt\u001b[39;00m:\n\u001b[0;32m   1119\u001b[0m     \u001b[38;5;66;03m# re-raise KeyboardInterrupt, to truncate traceback\u001b[39;00m\n\u001b[1;32m-> 1120\u001b[0m     \u001b[38;5;28;01mraise\u001b[39;00m \u001b[38;5;167;01mKeyboardInterrupt\u001b[39;00m(\u001b[38;5;124m\"\u001b[39m\u001b[38;5;124mInterrupted by user\u001b[39m\u001b[38;5;124m\"\u001b[39m) \u001b[38;5;28;01mfrom\u001b[39;00m \u001b[38;5;28mNone\u001b[39m\n\u001b[0;32m   1121\u001b[0m \u001b[38;5;28;01mexcept\u001b[39;00m \u001b[38;5;167;01mException\u001b[39;00m:\n\u001b[0;32m   1122\u001b[0m     \u001b[38;5;28mself\u001b[39m\u001b[38;5;241m.\u001b[39mlog\u001b[38;5;241m.\u001b[39mwarning(\u001b[38;5;124m\"\u001b[39m\u001b[38;5;124mInvalid Message:\u001b[39m\u001b[38;5;124m\"\u001b[39m, exc_info\u001b[38;5;241m=\u001b[39m\u001b[38;5;28;01mTrue\u001b[39;00m)\n",
      "\u001b[1;31mKeyboardInterrupt\u001b[0m: Interrupted by user"
     ]
    }
   ],
   "source": [
    "still_going()"
   ]
  },
  {
   "cell_type": "code",
   "execution_count": null,
   "id": "a3cabe5e",
   "metadata": {},
   "outputs": [],
   "source": [
    "#Code that establishes the game's flow\n",
    "\n",
    "def tictactoe():\n",
    "    clear_output()\n",
    "    print ('Hello! This is Tic Tac Toe! You will need 2 players at the keyboard.')\n",
    "    print ('The first player will be player X and the second player will be')\n",
    "    print ('player O. Your goal is to achieve 3 of your symbol in a row--either')\n",
    "    print ('vertically, horizontally, or diagonally--before your opponent does.')\n",
    "    print ('Choose a position 1-9 corresponding to a 9-key pad to place your')\n",
    "    print ('symbol in that location.')\n",
    "    \n",
    "    still_going()\n",
    "\n",
    "    \n",
    "\n",
    "while still_going():\n",
    "    tictactoe()"
   ]
  },
  {
   "cell_type": "code",
   "execution_count": null,
   "id": "62b7859c",
   "metadata": {},
   "outputs": [],
   "source": []
  },
  {
   "cell_type": "code",
   "execution_count": null,
   "id": "d71359bf",
   "metadata": {},
   "outputs": [],
   "source": []
  },
  {
   "cell_type": "code",
   "execution_count": null,
   "id": "8e41bed6",
   "metadata": {},
   "outputs": [],
   "source": []
  },
  {
   "cell_type": "code",
   "execution_count": null,
   "id": "636c82f5",
   "metadata": {},
   "outputs": [],
   "source": []
  },
  {
   "cell_type": "code",
   "execution_count": null,
   "id": "eb3e5bc3",
   "metadata": {},
   "outputs": [],
   "source": []
  },
  {
   "cell_type": "code",
   "execution_count": null,
   "id": "cec71903",
   "metadata": {},
   "outputs": [],
   "source": []
  },
  {
   "cell_type": "code",
   "execution_count": null,
   "id": "fd6442be",
   "metadata": {},
   "outputs": [],
   "source": []
  },
  {
   "cell_type": "code",
   "execution_count": null,
   "id": "3dd9cdfc",
   "metadata": {},
   "outputs": [
    {
     "name": "stdout",
     "output_type": "stream",
     "text": [
      "X | X | O\n",
      "O | O | X\n",
      "X | O | X\n",
      "Tie\n",
      "Would you like to play again? Y or N: Y\n",
      "  |   |  \n",
      "  |   |  \n",
      "  |   |  \n"
     ]
    }
   ],
   "source": [
    "# Code that sets up the board\n",
    "\n",
    "d = {1:' ',2:' ',3:' ',4:' ',5:' ',6:' ',7:' ',8:' ',9:' '}\n",
    "from IPython.display import clear_output\n",
    "def display():\n",
    "    print(f'{d[7]} | {d[8]} | {d[9]}')\n",
    "    print(f'{d[4]} | {d[5]} | {d[6]}')\n",
    "    print(f'{d[1]} | {d[2]} | {d[3]}')\n",
    "    \n",
    "# Code that takes player input\n",
    "\n",
    "def player_input():\n",
    "    new_input = False\n",
    "    while new_input == False:\n",
    "        position = input('Select the position you would like to play your piece.: ')\n",
    "        if position in ['1','2','3','4','5','6','7','8','9'] and d[int(position)]==' ':\n",
    "            new_input = True\n",
    "            return int(position)\n",
    "\n",
    "# this code will allow me to count the number of Xs and Os on the board, so that if\n",
    "# if the number of Xs and Os is even, it's player X's turn.\n",
    "\n",
    "def countx():\n",
    "    marks = []\n",
    "    for x in d.values():\n",
    "        if x == 'X'or x == 'O':\n",
    "            marks.append('1')\n",
    "    return len(marks)        \n",
    "        \n",
    "#Code that uses the player input to update the board\n",
    "\n",
    "def update_display():\n",
    "    display()\n",
    "    p = player_input()\n",
    "    if countx()%2==0:\n",
    "        clear_output()\n",
    "        print ('Player O, it is your turn.')\n",
    "        d[p] = 'X'\n",
    "    else:\n",
    "        clear_output()\n",
    "        print ('Player X, it is your turn.')\n",
    "        d[p] = 'O'\n",
    "\n",
    "#Keeps the game going until a winner is made.\n",
    "    \n",
    "def still_going():\n",
    "    from IPython.display import clear_output\n",
    "    done = False\n",
    "    while done == False:\n",
    "        update_display()\n",
    "        if d[1]==d[2]==d[3]!=' ' or d[1]==d[5]==d[9]!=' ' or d[1]==d[4]==d[7]!=' ' or d[2]==d[5]==d[8]!=' ' \\\n",
    "        or d[3]==d[6]==d[9]!=' '  or d[3]==d[5]==d[7]!=' 'or d[4]==d[5]==d[6]!=' ' or d[7]==d[8]==d[9]!=' ':\n",
    "            if countx()%2==0:\n",
    "                clear_output()\n",
    "                display()\n",
    "                print ('O WINS!!!')\n",
    "                done = True\n",
    "            else:\n",
    "                clear_output()\n",
    "                display()\n",
    "                print ('X WINS!!!')\n",
    "                done=True\n",
    "        elif countx()== 9:\n",
    "            clear_output()\n",
    "            display()\n",
    "            print ('Tie')\n",
    "            done = True\n",
    "        else:\n",
    "            continue\n",
    "\n",
    "    if done == True:\n",
    "        cont= input('Would you like to play again? Y or N: ')\n",
    "        if cont == 'Y':\n",
    "            d[1]=' '\n",
    "            d[2]=' '\n",
    "            #and d[2]=' ' and \n",
    "            d[3]=' '\n",
    "            d[4]=' ' \n",
    "            d[5]=' '\n",
    "            d[6]=' '\n",
    "            d[7]=' '\n",
    "            d[8]=' '\n",
    "            d[9]=' '\n",
    "            done =False\n",
    "            return cont == 'Y'\n",
    "        else:\n",
    "            print ('Thank you for playing!')\n",
    "            return cont == 'Y'\n",
    "            \n",
    "#Code that establishes the game's flow\n",
    "\n",
    "def tictactoe():\n",
    "    clear_output()\n",
    "    print ('Hello! This is Tic Tac Toe! You will need 2 players at the keyboard.')\n",
    "    print ('The first player will be player X and the second player will be')\n",
    "    print ('player O. Your goal is to achieve 3 of your symbol in a row--either')\n",
    "    print ('vertically, horizontally, or diagonally--before your opponent does.')\n",
    "    print ('Choose a position 1-9 corresponding to a 9-key pad to place your')\n",
    "    print ('symbol in that location.')\n",
    "    \n",
    "    still_going()\n",
    "\n",
    "    \n",
    "\n",
    "while still_going():\n",
    "    tictactoe()"
   ]
  },
  {
   "cell_type": "code",
   "execution_count": null,
   "id": "83729f80",
   "metadata": {},
   "outputs": [],
   "source": []
  }
 ],
 "metadata": {
  "kernelspec": {
   "display_name": "Python 3 (ipykernel)",
   "language": "python",
   "name": "python3"
  },
  "language_info": {
   "codemirror_mode": {
    "name": "ipython",
    "version": 3
   },
   "file_extension": ".py",
   "mimetype": "text/x-python",
   "name": "python",
   "nbconvert_exporter": "python",
   "pygments_lexer": "ipython3",
   "version": "3.9.12"
  }
 },
 "nbformat": 4,
 "nbformat_minor": 5
}
